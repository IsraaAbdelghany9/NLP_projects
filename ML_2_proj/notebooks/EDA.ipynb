{
 "cells": [
  {
   "cell_type": "markdown",
   "metadata": {},
   "source": [
    "## **Importing Libraries**"
   ]
  },
  {
   "cell_type": "code",
   "execution_count": 37,
   "metadata": {},
   "outputs": [],
   "source": [
    "from sklearn.datasets import fetch_20newsgroups\n",
    "# from nltk.tokenize import word_tokenize #Used to extract words from documents\n",
    "# from nltk.stem import WordNetLemmatizer #Used to lemmatize words\n",
    "from sklearn.feature_extraction.text import TfidfVectorizer\n",
    "from sklearn.pipeline import make_pipeline\n",
    "from sklearn.preprocessing import Normalizer\n",
    "from sklearn import metrics\n",
    "\n",
    "from sklearn.cluster import KMeans\n",
    "\n",
    "import sys\n",
    "from time import time\n",
    "\n",
    "import pandas as pd\n",
    "import numpy as np"
   ]
  },
  {
   "cell_type": "code",
   "execution_count": 38,
   "metadata": {},
   "outputs": [],
   "source": [
    "from nltk.stem import PorterStemmer        # module for stemming\n",
    "import nltk\n",
    "from scipy.cluster.hierarchy import linkage, dendrogram\n",
    "\n",
    "import re"
   ]
  },
  {
   "cell_type": "markdown",
   "metadata": {},
   "source": [
    "## **Reading 20 Newsgroups Dataset**"
   ]
  },
  {
   "cell_type": "code",
   "execution_count": 39,
   "metadata": {},
   "outputs": [
    {
     "name": "stdout",
     "output_type": "stream",
     "text": [
      "Loading 20 newsgroups dataset for categories:\n",
      "['talk.religion.misc', 'comp.graphics', 'sci.space']\n"
     ]
    }
   ],
   "source": [
    "# Selected 3 categories from the 20 newsgroups dataset\n",
    "\n",
    "categories = [\n",
    "    'talk.religion.misc',\n",
    "    'comp.graphics',\n",
    "    'sci.space',\n",
    "]\n",
    "\n",
    "print(\"Loading 20 newsgroups dataset for categories:\")\n",
    "print(categories)"
   ]
  },
  {
   "cell_type": "code",
   "execution_count": 40,
   "metadata": {},
   "outputs": [],
   "source": [
    "News_df = fetch_20newsgroups(subset='all', categories=categories, \n",
    "                             shuffle=False, remove=('headers', 'footers', 'quotes'))"
   ]
  },
  {
   "cell_type": "code",
   "execution_count": 41,
   "metadata": {},
   "outputs": [
    {
     "data": {
      "text/plain": [
       "'\\n\\nI think I can. Largely as a result of efforts by people reading this group\\nwriting letters and making phone calls the following has happened:\\n\\n1. NASA reprogrammed funds to keep NASP alive in 1991.\\n2. Efforts to kill DC-X and the SSRT progam where twice twarted\\n   (Feb. and June of last year).\\n3. Gouldin kept his job in spite of heavy lobbying against him.\\n\\nThis may not be what Mark was thinking of but it shows that the\\nreaders of sci.space DO have power and influence.\\n\\n  Allen\\n'"
      ]
     },
     "execution_count": 41,
     "metadata": {},
     "output_type": "execute_result"
    }
   ],
   "source": [
    "News_df.data[0]"
   ]
  },
  {
   "cell_type": "code",
   "execution_count": null,
   "metadata": {},
   "outputs": [],
   "source": []
  },
  {
   "cell_type": "markdown",
   "metadata": {},
   "source": [
    "## EDA"
   ]
  },
  {
   "cell_type": "code",
   "execution_count": 43,
   "metadata": {},
   "outputs": [
    {
     "data": {
      "text/plain": [
       "'\\n\\nI think I can. Largely as a result of efforts by people reading this group\\nwriting letters and making phone calls the following has happened:\\n\\n1. NASA reprogrammed funds to keep NASP alive in 1991.\\n2. Efforts to kill DC-X and the SSRT progam where twice twarted\\n   (Feb. and June of last year).\\n3. Gouldin kept his job in spite of heavy lobbying against him.\\n\\nThis may not be what Mark was thinking of but it shows that the\\nreaders of sci.space DO have power and influence.\\n\\n  Allen\\n'"
      ]
     },
     "execution_count": 43,
     "metadata": {},
     "output_type": "execute_result"
    }
   ],
   "source": [
    "News_df.data[0]"
   ]
  },
  {
   "cell_type": "code",
   "execution_count": 44,
   "metadata": {},
   "outputs": [
    {
     "data": {
      "text/plain": [
       "array([1, 0, 1, ..., 0, 0, 1])"
      ]
     },
     "execution_count": 44,
     "metadata": {},
     "output_type": "execute_result"
    }
   ],
   "source": [
    "News_df.target"
   ]
  },
  {
   "cell_type": "code",
   "execution_count": 45,
   "metadata": {},
   "outputs": [
    {
     "name": "stdout",
     "output_type": "stream",
     "text": [
      "\n",
      "\n",
      "I think I can. Largely as a result of efforts by people reading this group\n",
      "writing letters and making phone calls the following has happened:\n",
      "\n",
      "1. NASA reprogrammed funds to keep NASP alive in 1991.\n",
      "2. Efforts to kill DC-X and the SSRT progam where twice twarted\n",
      "   (Feb. and June of last year).\n",
      "3. Gouldin kept his job in spite of heavy lobbying against him.\n",
      "\n",
      "This may not be what Mark was thinking of but it shows that the\n",
      "readers of sci.space DO have power and influence.\n",
      "\n",
      "  Allen\n",
      "\n"
     ]
    }
   ],
   "source": [
    "print(News_df.data[0])"
   ]
  },
  {
   "cell_type": "code",
   "execution_count": 46,
   "metadata": {},
   "outputs": [
    {
     "data": {
      "text/plain": [
       "2588"
      ]
     },
     "execution_count": 46,
     "metadata": {},
     "output_type": "execute_result"
    }
   ],
   "source": [
    "len(News_df.data)"
   ]
  },
  {
   "cell_type": "code",
   "execution_count": 47,
   "metadata": {},
   "outputs": [],
   "source": [
    "News_sample = News_df.data[0]"
   ]
  },
  {
   "cell_type": "code",
   "execution_count": 48,
   "metadata": {},
   "outputs": [
    {
     "data": {
      "text/plain": [
       "'\\n\\nI think I can. Largely as a result of efforts by people reading this group\\nwriting letters and making phone calls the following has happened:\\n\\n1. NASA reprogrammed funds to keep NASP alive in 1991.\\n2. Efforts to kill DC-X and the SSRT progam where twice twarted\\n   (Feb. and June of last year).\\n3. Gouldin kept his job in spite of heavy lobbying against him.\\n\\nThis may not be what Mark was thinking of but it shows that the\\nreaders of sci.space DO have power and influence.\\n\\n  Allen\\n'"
      ]
     },
     "execution_count": 48,
     "metadata": {},
     "output_type": "execute_result"
    }
   ],
   "source": [
    "News_sample"
   ]
  },
  {
   "cell_type": "code",
   "execution_count": 49,
   "metadata": {},
   "outputs": [
    {
     "name": "stdout",
     "output_type": "stream",
     "text": [
      "\n",
      "\n",
      "I think I can. Largely as a result of efforts by people reading this group\n",
      "writing letters and making phone calls the following has happened:\n",
      "\n",
      "1. NASA reprogrammed funds to keep NASP alive in 1991.\n",
      "2. Efforts to kill DC-X and the SSRT progam where twice twarted\n",
      "   (Feb. and June of last year).\n",
      "3. Gouldin kept his job in spite of heavy lobbying against him.\n",
      "\n",
      "This may not be what Mark was thinking of but it shows that the\n",
      "readers of sci.space DO have power and influence.\n",
      "\n",
      "  Allen\n",
      "\n"
     ]
    }
   ],
   "source": [
    "# remove old style retweet text \"RT\"\n",
    "News_sample2 = re.sub(r'^RT[\\s]+', '', News_sample)\n",
    "\n",
    "# remove hyperlinks\n",
    "News_sample2 = re.sub(r'https?://[^\\s\\n\\r]+', '', News_sample2)\n",
    "\n",
    "# remove hashtags\n",
    "# only removing the hash # sign from the word\n",
    "News_sample2 = re.sub(r'#', '', News_sample2)\n",
    "\n",
    "print(News_sample2)"
   ]
  },
  {
   "cell_type": "code",
   "execution_count": 51,
   "metadata": {},
   "outputs": [
    {
     "name": "stdout",
     "output_type": "stream",
     "text": [
      "Tokenized string:\n",
      "['i', 'think', 'i', 'can', '.', 'largely', 'as', 'a', 'result', 'of', 'efforts', 'by', 'people', 'reading', 'this', 'group', 'writing', 'letters', 'and', 'making', 'phone', 'calls', 'the', 'following', 'has', 'happened', ':', '1', '.', 'nasa', 'reprogrammed', 'funds', 'to', 'keep', 'nasp', 'alive', 'in', '1991', '.', '2', '.', 'efforts', 'to', 'kill', 'dc-x', 'and', 'the', 'ssrt', 'progam', 'where', 'twice', 'twarted', '(', 'feb', '.', 'and', 'june', 'of', 'last', 'year', ')', '.', '3', '.', 'gouldin', 'kept', 'his', 'job', 'in', 'spite', 'of', 'heavy', 'lobbying', 'against', 'him', '.', 'this', 'may', 'not', 'be', 'what', 'mark', 'was', 'thinking', 'of', 'but', 'it', 'shows', 'that', 'the', 'readers', 'of', 'sci.space', 'do', 'have', 'power', 'and', 'influence', '.', 'allen']\n"
     ]
    }
   ],
   "source": [
    "from nltk.tokenize import TweetTokenizer\n",
    "\n",
    "tokenizer = TweetTokenizer(preserve_case=False, strip_handles=True, reduce_len=True)\n",
    "\n",
    "# tokenize tweets\n",
    "News_sample2_tokens = tokenizer.tokenize(News_sample2)\n",
    "\n",
    "print('Tokenized string:')\n",
    "print(News_sample2_tokens)\n"
   ]
  },
  {
   "cell_type": "code",
   "execution_count": 53,
   "metadata": {},
   "outputs": [
    {
     "name": "stderr",
     "output_type": "stream",
     "text": [
      "[nltk_data] Downloading package stopwords to /home/israa/nltk_data...\n",
      "[nltk_data]   Package stopwords is already up-to-date!\n"
     ]
    },
    {
     "data": {
      "text/plain": [
       "True"
      ]
     },
     "execution_count": 53,
     "metadata": {},
     "output_type": "execute_result"
    }
   ],
   "source": [
    "nltk.download('stopwords')"
   ]
  },
  {
   "cell_type": "code",
   "execution_count": 56,
   "metadata": {},
   "outputs": [
    {
     "name": "stdout",
     "output_type": "stream",
     "text": [
      "Stop words\n",
      "\n",
      "['a', 'about', 'above', 'after', 'again', 'against', 'ain', 'all', 'am', 'an', 'and', 'any', 'are', 'aren', \"aren't\", 'as', 'at', 'be', 'because', 'been', 'before', 'being', 'below', 'between', 'both', 'but', 'by', 'can', 'couldn', \"couldn't\", 'd', 'did', 'didn', \"didn't\", 'do', 'does', 'doesn', \"doesn't\", 'doing', 'don', \"don't\", 'down', 'during', 'each', 'few', 'for', 'from', 'further', 'had', 'hadn', \"hadn't\", 'has', 'hasn', \"hasn't\", 'have', 'haven', \"haven't\", 'having', 'he', \"he'd\", \"he'll\", 'her', 'here', 'hers', 'herself', \"he's\", 'him', 'himself', 'his', 'how', 'i', \"i'd\", 'if', \"i'll\", \"i'm\", 'in', 'into', 'is', 'isn', \"isn't\", 'it', \"it'd\", \"it'll\", \"it's\", 'its', 'itself', \"i've\", 'just', 'll', 'm', 'ma', 'me', 'mightn', \"mightn't\", 'more', 'most', 'mustn', \"mustn't\", 'my', 'myself', 'needn', \"needn't\", 'no', 'nor', 'not', 'now', 'o', 'of', 'off', 'on', 'once', 'only', 'or', 'other', 'our', 'ours', 'ourselves', 'out', 'over', 'own', 're', 's', 'same', 'shan', \"shan't\", 'she', \"she'd\", \"she'll\", \"she's\", 'should', 'shouldn', \"shouldn't\", \"should've\", 'so', 'some', 'such', 't', 'than', 'that', \"that'll\", 'the', 'their', 'theirs', 'them', 'themselves', 'then', 'there', 'these', 'they', \"they'd\", \"they'll\", \"they're\", \"they've\", 'this', 'those', 'through', 'to', 'too', 'under', 'until', 'up', 've', 'very', 'was', 'wasn', \"wasn't\", 'we', \"we'd\", \"we'll\", \"we're\", 'were', 'weren', \"weren't\", \"we've\", 'what', 'when', 'where', 'which', 'while', 'who', 'whom', 'why', 'will', 'with', 'won', \"won't\", 'wouldn', \"wouldn't\", 'y', 'you', \"you'd\", \"you'll\", 'your', \"you're\", 'yours', 'yourself', 'yourselves', \"you've\"]\n",
      "\n",
      "Punctuation\n",
      "\n",
      "!\"#$%&'()*+,-./:;<=>?@[\\]^_`{|}~\n"
     ]
    }
   ],
   "source": [
    "from nltk.corpus import stopwords\n",
    "import string\n",
    "\n",
    "stopwords_english = stopwords.words('english') \n",
    "\n",
    "print('Stop words\\n')\n",
    "print(stopwords_english)\n",
    "\n",
    "print('\\nPunctuation\\n')\n",
    "print(string.punctuation)"
   ]
  },
  {
   "cell_type": "code",
   "execution_count": 57,
   "metadata": {},
   "outputs": [
    {
     "name": "stdout",
     "output_type": "stream",
     "text": [
      "\u001b[92m\n",
      "['i', 'think', 'i', 'can', '.', 'largely', 'as', 'a', 'result', 'of', 'efforts', 'by', 'people', 'reading', 'this', 'group', 'writing', 'letters', 'and', 'making', 'phone', 'calls', 'the', 'following', 'has', 'happened', ':', '1', '.', 'nasa', 'reprogrammed', 'funds', 'to', 'keep', 'nasp', 'alive', 'in', '1991', '.', '2', '.', 'efforts', 'to', 'kill', 'dc-x', 'and', 'the', 'ssrt', 'progam', 'where', 'twice', 'twarted', '(', 'feb', '.', 'and', 'june', 'of', 'last', 'year', ')', '.', '3', '.', 'gouldin', 'kept', 'his', 'job', 'in', 'spite', 'of', 'heavy', 'lobbying', 'against', 'him', '.', 'this', 'may', 'not', 'be', 'what', 'mark', 'was', 'thinking', 'of', 'but', 'it', 'shows', 'that', 'the', 'readers', 'of', 'sci.space', 'do', 'have', 'power', 'and', 'influence', '.', 'allen']\n",
      "\u001b[94m\n",
      "After removing stop words and punctuation:\n",
      "['think', 'largely', 'result', 'efforts', 'people', 'reading', 'group', 'writing', 'letters', 'making', 'phone', 'calls', 'following', 'happened', '1', 'nasa', 'reprogrammed', 'funds', 'keep', 'nasp', 'alive', '1991', '2', 'efforts', 'kill', 'dc-x', 'ssrt', 'progam', 'twice', 'twarted', 'feb', 'june', 'last', 'year', '3', 'gouldin', 'kept', 'job', 'spite', 'heavy', 'lobbying', 'may', 'mark', 'thinking', 'shows', 'readers', 'sci.space', 'power', 'influence', 'allen']\n"
     ]
    }
   ],
   "source": [
    "print('\\033[92m')\n",
    "print(News_sample2_tokens)\n",
    "print('\\033[94m')\n",
    "\n",
    "tweets_clean = []\n",
    "\n",
    "for word in News_sample2_tokens: \n",
    "    if (word not in stopwords_english and  word not in string.punctuation):  \n",
    "        tweets_clean.append(word)\n",
    "\n",
    "print(\"After removing stop words and punctuation:\")\n",
    "print(tweets_clean)"
   ]
  },
  {
   "cell_type": "code",
   "execution_count": 58,
   "metadata": {},
   "outputs": [
    {
     "name": "stdout",
     "output_type": "stream",
     "text": [
      "\u001b[92m\n",
      "['think', 'largely', 'result', 'efforts', 'people', 'reading', 'group', 'writing', 'letters', 'making', 'phone', 'calls', 'following', 'happened', '1', 'nasa', 'reprogrammed', 'funds', 'keep', 'nasp', 'alive', '1991', '2', 'efforts', 'kill', 'dc-x', 'ssrt', 'progam', 'twice', 'twarted', 'feb', 'june', 'last', 'year', '3', 'gouldin', 'kept', 'job', 'spite', 'heavy', 'lobbying', 'may', 'mark', 'thinking', 'shows', 'readers', 'sci.space', 'power', 'influence', 'allen']\n",
      "\u001b[94m\n",
      "stemmed words:\n",
      "['think', 'larg', 'result', 'effort', 'peopl', 'read', 'group', 'write', 'letter', 'make', 'phone', 'call', 'follow', 'happen', '1', 'nasa', 'reprogram', 'fund', 'keep', 'nasp', 'aliv', '1991', '2', 'effort', 'kill', 'dc-x', 'ssrt', 'progam', 'twice', 'twart', 'feb', 'june', 'last', 'year', '3', 'gouldin', 'kept', 'job', 'spite', 'heavi', 'lobbi', 'may', 'mark', 'think', 'show', 'reader', 'sci.spac', 'power', 'influenc', 'allen']\n"
     ]
    }
   ],
   "source": [
    "print('\\033[92m')\n",
    "print(tweets_clean)\n",
    "print('\\033[94m')\n",
    "\n",
    "# Instantiate stemming class\n",
    "stemmer = PorterStemmer() \n",
    "\n",
    "# Create an empty list to store the stems\n",
    "News_sample2_tokens_stem = [] \n",
    "\n",
    "for word in tweets_clean:\n",
    "    stem_word = stemmer.stem(word)  # stemming word\n",
    "    News_sample2_tokens_stem.append(stem_word)  # append to the list\n",
    "\n",
    "print('stemmed words:')\n",
    "print(News_sample2_tokens_stem)"
   ]
  },
  {
   "cell_type": "markdown",
   "metadata": {},
   "source": [
    "## Visualization"
   ]
  },
  {
   "cell_type": "code",
   "execution_count": 59,
   "metadata": {},
   "outputs": [
    {
     "data": {
      "image/png": "[encoded data removed]",
      "text/plain": [
       "<Figure size 1000x600 with 1 Axes>"
      ]
     },
     "metadata": {},
     "output_type": "display_data"
    }
   ],
   "source": [
    "import matplotlib.pyplot as plt\n",
    "\n",
    "# Count the number of documents in each category\n",
    "category_counts = np.bincount(News_df.target)\n",
    "\n",
    "# Plot the distribution of categories\n",
    "plt.figure(figsize=(10, 6))\n",
    "plt.bar(categories, category_counts, color='skyblue')\n",
    "plt.xlabel('Categories')\n",
    "plt.ylabel('Number of Documents')\n",
    "plt.title('Distribution of Documents Across Categories')\n",
    "plt.show()"
   ]
  },
  {
   "cell_type": "code",
   "execution_count": null,
   "metadata": {},
   "outputs": [],
   "source": []
  },
  {
   "cell_type": "code",
   "execution_count": null,
   "metadata": {},
   "outputs": [],
   "source": []
  }
 ],
 "metadata": {
  "kernelspec": {
   "display_name": "Python 3",
   "language": "python",
   "name": "python3"
  },
  "language_info": {
   "codemirror_mode": {
    "name": "ipython",
    "version": 3
   },
   "file_extension": ".py",
   "mimetype": "text/x-python",
   "name": "python",
   "nbconvert_exporter": "python",
   "pygments_lexer": "ipython3",
   "version": "3.8.10"
  }
 },
 "nbformat": 4,
 "nbformat_minor": 2
}
